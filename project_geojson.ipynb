{
 "cells": [
  {
   "cell_type": "code",
   "execution_count": null,
   "metadata": {},
   "outputs": [],
   "source": [
    "import geopandas as gpd\n",
    "\n",
    "# Load your original GeoJSON (in EPSG:4326)\n",
    "gdf = gpd.read_file(\"static/data_csv/census_tracts_boston_2010.geojson\")\n",
    "\n",
    "# Reproject to a flat projection (Web Mercator or State Plane)\n",
    "gdf_proj = gdf.to_crs(\"EPSG:26986\")  # or \"EPSG:26986\"\n",
    "\n",
    "# Optionally, stretch the Y axis manually here (not usually necessary with Web Mercator)\n",
    "# gdf_proj['geometry'] = gdf_proj.scale(yfact=1.5, xfact=1, origin='center')\n",
    "\n",
    "# Save the projected GeoJSON\n",
    "gdf_proj.to_file(\"static/data_csv/census_tracts_boston_projected.geojson\", driver=\"GeoJSON\")"
   ]
  },
  {
   "cell_type": "code",
   "execution_count": null,
   "metadata": {},
   "outputs": [],
   "source": []
  }
 ],
 "metadata": {
  "kernelspec": {
   "display_name": "hooktheory-s25",
   "language": "python",
   "name": "python3"
  },
  "language_info": {
   "name": "python",
   "version": "3.10.13"
  }
 },
 "nbformat": 4,
 "nbformat_minor": 2
}
